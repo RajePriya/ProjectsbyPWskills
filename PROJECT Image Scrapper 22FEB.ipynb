{
 "cells": [
  {
   "cell_type": "markdown",
   "id": "19468d3c",
   "metadata": {},
   "source": [
    "# IMAGE SCRAPPER \n",
    "## 22FEB - Assignment"
   ]
  },
  {
   "cell_type": "markdown",
   "id": "31695a01",
   "metadata": {},
   "source": [
    "Go to this given URL and solve the following questions\n",
    "URL: https://www.youtube.com/@PW-Foundation/videos"
   ]
  },
  {
   "cell_type": "markdown",
   "id": "1e91a3dd",
   "metadata": {},
   "source": [
    "# Q1"
   ]
  },
  {
   "cell_type": "markdown",
   "id": "1bc08d9e",
   "metadata": {},
   "source": [
    "### Q1. Write a python program to extract the video URL of the first five videos."
   ]
  },
  {
   "cell_type": "code",
   "execution_count": 24,
   "id": "bbb91b76",
   "metadata": {},
   "outputs": [],
   "source": [
    "from selenium import webdriver\n",
    "from selenium.webdriver.chrome.service import Service\n",
    "from selenium.webdriver.common.by import By\n",
    "from selenium.webdriver.chrome.options import Options"
   ]
  },
  {
   "cell_type": "code",
   "execution_count": 25,
   "id": "2f893bf0",
   "metadata": {},
   "outputs": [],
   "source": [
    "chrome_options = Options()\n",
    "chrome_options.add_argument(\"--headless\")  # Run Chrome in headless mode\n",
    "service = Service('path/to/chromedriver')  # Replace with the path to your chromedriver executable\n",
    "driver = webdriver.Chrome(service=service, options=chrome_options)"
   ]
  },
  {
   "cell_type": "code",
   "execution_count": 26,
   "id": "fe2b5b92",
   "metadata": {},
   "outputs": [],
   "source": [
    "driver.get('https://www.youtube.com/@PW-Foundation/videos')  # Replace with the URL of the YouTube page you want to scrape\n"
   ]
  },
  {
   "cell_type": "code",
   "execution_count": 27,
   "id": "8377e58f",
   "metadata": {},
   "outputs": [],
   "source": [
    "search_box = driver.find_element(By.NAME, 'search_query')  # Locate the search box element\n",
    "search_box.send_keys('https://www.youtube.com/@PW-Foundation/videos')  # Replace 'your search query' with the desired search term\n",
    "search_box.submit()\n"
   ]
  },
  {
   "cell_type": "code",
   "execution_count": 28,
   "id": "574ab344",
   "metadata": {},
   "outputs": [],
   "source": [
    "# Replace the sleep time with appropriate waiting mechanism if needed\n",
    "## import time --- to run this code\n",
    "time.sleep(5)"
   ]
  },
  {
   "cell_type": "code",
   "execution_count": 29,
   "id": "019ca61d",
   "metadata": {},
   "outputs": [],
   "source": [
    "video_elements = driver.find_elements(By.CSS_SELECTOR, 'ytd-video-renderer')"
   ]
  },
  {
   "cell_type": "code",
   "execution_count": 30,
   "id": "ad31750d",
   "metadata": {},
   "outputs": [],
   "source": [
    "video_urls = []\n",
    "for i in range(5):\n",
    "    video_url = video_elements[i].find_element(By.TAG_NAME, 'a').get_attribute('href')\n",
    "    video_urls.append(video_url)"
   ]
  },
  {
   "cell_type": "code",
   "execution_count": 31,
   "id": "2b767166",
   "metadata": {},
   "outputs": [
    {
     "name": "stdout",
     "output_type": "stream",
     "text": [
      "https://www.youtube.com/watch?v=2mXkGBYQteY&pp=ygUtaHR0cHM6Ly93d3cueW91dHViZS5jb20vQFBXLUZvdW5kYXRpb24vdmlkZW9z\n",
      "https://www.youtube.com/watch?v=1izKrQHyx9M&pp=ygUtaHR0cHM6Ly93d3cueW91dHViZS5jb20vQFBXLUZvdW5kYXRpb24vdmlkZW9z\n",
      "https://www.youtube.com/shorts/mmGFKqazK9Y\n",
      "https://www.youtube.com/shorts/WYy1XQeUni4\n",
      "https://www.youtube.com/shorts/Zgaikimpja0\n"
     ]
    }
   ],
   "source": [
    "for video_url in video_urls:\n",
    "    print(video_url)"
   ]
  },
  {
   "cell_type": "code",
   "execution_count": 32,
   "id": "db30ce7c",
   "metadata": {},
   "outputs": [],
   "source": [
    "driver.quit()"
   ]
  },
  {
   "cell_type": "markdown",
   "id": "c7926c4b",
   "metadata": {},
   "source": [
    "# Q2"
   ]
  },
  {
   "cell_type": "markdown",
   "id": "72ef099d",
   "metadata": {},
   "source": [
    "### Q2. Write a python program to extract the URL of the video thumbnails of the first five videos."
   ]
  },
  {
   "cell_type": "code",
   "execution_count": 45,
   "id": "eaf34aac",
   "metadata": {},
   "outputs": [],
   "source": [
    "from selenium import webdriver\n",
    "from selenium.webdriver.chrome.service import Service\n",
    "from selenium.webdriver.common.by import By\n",
    "from selenium.webdriver.chrome.options import Options"
   ]
  },
  {
   "cell_type": "code",
   "execution_count": 46,
   "id": "b63d994c",
   "metadata": {},
   "outputs": [],
   "source": [
    "chrome_options = Options()\n",
    "chrome_options.add_argument(\"--headless\")  # Run Chrome in headless mode\n",
    "service = Service('path/to/chromedriver')  # Replace with the path to your chromedriver executable\n",
    "driver = webdriver.Chrome(service=service, options=chrome_options)"
   ]
  },
  {
   "cell_type": "code",
   "execution_count": 48,
   "id": "c8776783",
   "metadata": {},
   "outputs": [],
   "source": [
    "search_keyword = \"https://www.youtube.com/@PW-Foundation/videos\"\n",
    "driver.get(f\"https://www.youtube.com/results?search_query={search_keyword}\")"
   ]
  },
  {
   "cell_type": "code",
   "execution_count": 49,
   "id": "9e2ae832",
   "metadata": {},
   "outputs": [],
   "source": [
    "import time\n",
    "time.sleep(5)"
   ]
  },
  {
   "cell_type": "code",
   "execution_count": 50,
   "id": "811dd5b3",
   "metadata": {},
   "outputs": [],
   "source": [
    "video_elements = driver.find_elements(By.CSS_SELECTOR, \"ytd-video-renderer\")"
   ]
  },
  {
   "cell_type": "code",
   "execution_count": 51,
   "id": "fbcd4e1d",
   "metadata": {},
   "outputs": [],
   "source": [
    "thumbnail_urls = []\n",
    "for i, video_element in enumerate(video_elements[:5]):\n",
    "    thumbnail_element = video_element.find_element(By.CSS_SELECTOR, \"img#img\")\n",
    "    thumbnail_url = thumbnail_element.get_attribute(\"src\")\n",
    "    thumbnail_urls.append(thumbnail_url)"
   ]
  },
  {
   "cell_type": "code",
   "execution_count": 52,
   "id": "4000fb02",
   "metadata": {},
   "outputs": [
    {
     "name": "stdout",
     "output_type": "stream",
     "text": [
      "https://yt3.ggpht.com/ZhXrPzcpLJxFRu21_fawmLWkwUoAWb3DSe04Ey-9sTXwBDnj22bH5217PQOCsRp7dWJf41aa=s68-c-k-c0x00ffffff-no-rj\n",
      "https://yt3.ggpht.com/ZhXrPzcpLJxFRu21_fawmLWkwUoAWb3DSe04Ey-9sTXwBDnj22bH5217PQOCsRp7dWJf41aa=s68-c-k-c0x00ffffff-no-rj\n",
      "https://yt3.ggpht.com/XXiUCkipiNXFLx_ySN-hopCY2C1ZT2Drn5dohxh3QThsJPJYSNWoVmF17LofD2uTDL_lfNN9JQ=s68-c-k-c0x00ffffff-no-rj\n",
      "None\n",
      "None\n"
     ]
    }
   ],
   "source": [
    "# Print the URLs of the video thumbnails\n",
    "for thumbnail_url in thumbnail_urls:\n",
    "    print(thumbnail_url)"
   ]
  },
  {
   "cell_type": "code",
   "execution_count": 55,
   "id": "912503d3",
   "metadata": {},
   "outputs": [],
   "source": [
    "driver.quit()"
   ]
  },
  {
   "cell_type": "markdown",
   "id": "dec1ba78",
   "metadata": {},
   "source": [
    "# Q3"
   ]
  },
  {
   "cell_type": "markdown",
   "id": "6101b2da",
   "metadata": {},
   "source": [
    "### Q3. Write a python program to extract the title of the first five videos."
   ]
  },
  {
   "cell_type": "code",
   "execution_count": 56,
   "id": "8961cab2",
   "metadata": {},
   "outputs": [],
   "source": [
    "from selenium import webdriver\n",
    "from selenium.webdriver.chrome.service import Service\n",
    "from selenium.webdriver.common.by import By\n",
    "from selenium.webdriver.chrome.options import Options"
   ]
  },
  {
   "cell_type": "code",
   "execution_count": 57,
   "id": "44c3b3d2",
   "metadata": {},
   "outputs": [],
   "source": [
    "chrome_options = Options()\n",
    "chrome_options.add_argument(\"--headless\")  # Run Chrome in headless mode\n",
    "service = Service('path/to/chromedriver')  # Replace with the path to your chromedriver executable\n",
    "driver = webdriver.Chrome(service=service, options=chrome_options)"
   ]
  },
  {
   "cell_type": "code",
   "execution_count": 58,
   "id": "682fa0e8",
   "metadata": {},
   "outputs": [],
   "source": [
    "search_keyword = \"https://www.youtube.com/@PW-Foundation/videos\"\n",
    "driver.get(f\"https://www.youtube.com/results?search_query={search_keyword}\")"
   ]
  },
  {
   "cell_type": "code",
   "execution_count": 59,
   "id": "1df7815b",
   "metadata": {},
   "outputs": [],
   "source": [
    "import time\n",
    "time.sleep(5)"
   ]
  },
  {
   "cell_type": "code",
   "execution_count": 60,
   "id": "145f1c84",
   "metadata": {},
   "outputs": [],
   "source": [
    "video_elements = driver.find_elements(By.CSS_SELECTOR, \"ytd-video-renderer\")"
   ]
  },
  {
   "cell_type": "code",
   "execution_count": 61,
   "id": "451dd4d1",
   "metadata": {},
   "outputs": [],
   "source": [
    "video_titles = []\n",
    "for i, video_element in enumerate(video_elements[:5]):\n",
    "    title_element = video_element.find_element(By.CSS_SELECTOR, \"#video-title\")\n",
    "    video_title = title_element.get_attribute(\"title\")\n",
    "    video_titles.append(video_title)"
   ]
  },
  {
   "cell_type": "code",
   "execution_count": 62,
   "id": "6316a9eb",
   "metadata": {},
   "outputs": [
    {
     "name": "stdout",
     "output_type": "stream",
     "text": [
      "Launching NDA Foundation | Exclusive Batch For NDA-2,2024 🔥🔥\n",
      "⚡Unleashing the Power of PW Internationally⚡| Launching Physics Wallah Gulf\n",
      "PW आपके SAATH है!! 💥💪🚀 #PWShorts #PhysicsWallah #NEET2023Results\n",
      "CONTROL & COORDINATION in 30 Minutes || Mind Map Series for Class 10th\n",
      "Follow This Plan To Score More Than 95% in Boards || Topper's Strategy\n"
     ]
    }
   ],
   "source": [
    "# Print the video titles:\n",
    "for video_title in video_titles:\n",
    "    print(video_title)"
   ]
  },
  {
   "cell_type": "code",
   "execution_count": 63,
   "id": "d7da63d3",
   "metadata": {},
   "outputs": [],
   "source": [
    "driver.quit()"
   ]
  },
  {
   "cell_type": "markdown",
   "id": "15822818",
   "metadata": {},
   "source": [
    "# Q4"
   ]
  },
  {
   "cell_type": "markdown",
   "id": "65f37ad5",
   "metadata": {},
   "source": [
    "### Q4. Write a python program to extract the number of views of the first five videos."
   ]
  },
  {
   "cell_type": "code",
   "execution_count": 124,
   "id": "aa61a8d4",
   "metadata": {},
   "outputs": [],
   "source": [
    "from selenium import webdriver\n",
    "from selenium.webdriver.chrome.service import Service\n",
    "from selenium.webdriver.common.by import By\n",
    "from selenium.webdriver.chrome.options import Options"
   ]
  },
  {
   "cell_type": "code",
   "execution_count": 125,
   "id": "3d5d9456",
   "metadata": {},
   "outputs": [],
   "source": [
    "chrome_options = Options()\n",
    "chrome_options.add_argument(\"--headless\")  # Run Chrome in headless mode\n",
    "service = Service('path/to/chromedriver')  # Replace with the path to your chromedriver executable\n",
    "driver = webdriver.Chrome(service=service, options=chrome_options)"
   ]
  },
  {
   "cell_type": "code",
   "execution_count": 126,
   "id": "c11da988",
   "metadata": {},
   "outputs": [],
   "source": [
    "search_keyword = \"https://www.youtube.com/@PW-Foundation/videos\"\n",
    "driver.get(f\"https://www.youtube.com/results?search_query={search_keyword}\")"
   ]
  },
  {
   "cell_type": "code",
   "execution_count": 127,
   "id": "acabee22",
   "metadata": {},
   "outputs": [],
   "source": [
    "import time\n",
    "time.sleep(5)"
   ]
  },
  {
   "cell_type": "code",
   "execution_count": 128,
   "id": "c12b7fb3",
   "metadata": {},
   "outputs": [],
   "source": [
    "video_elements = driver.find_elements(By.CSS_SELECTOR, \"ytd-video-renderer\")"
   ]
  },
  {
   "cell_type": "code",
   "execution_count": 130,
   "id": "eb07d126",
   "metadata": {},
   "outputs": [
    {
     "ename": "NoSuchElementException",
     "evalue": "Message: no such element: Unable to locate element: {\"method\":\"xpath\",\"selector\":\".//span[@class='style-scope ytd-video-meta-block'][1]\"}\n  (Session info: headless chrome=114.0.5735.134)\nStacktrace:\nBacktrace:\n\tGetHandleVerifier [0x0101A813+48355]\n\t(No symbol) [0x00FAC4B1]\n\t(No symbol) [0x00EB5358]\n\t(No symbol) [0x00EE09A5]\n\t(No symbol) [0x00EE0B3B]\n\t(No symbol) [0x00ED9AE1]\n\t(No symbol) [0x00EFA784]\n\t(No symbol) [0x00ED9A36]\n\t(No symbol) [0x00EFAA94]\n\t(No symbol) [0x00F0C922]\n\t(No symbol) [0x00EFA536]\n\t(No symbol) [0x00ED82DC]\n\t(No symbol) [0x00ED93DD]\n\tGetHandleVerifier [0x0127AABD+2539405]\n\tGetHandleVerifier [0x012BA78F+2800735]\n\tGetHandleVerifier [0x012B456C+2775612]\n\tGetHandleVerifier [0x010A51E0+616112]\n\t(No symbol) [0x00FB5F8C]\n\t(No symbol) [0x00FB2328]\n\t(No symbol) [0x00FB240B]\n\t(No symbol) [0x00FA4FF7]\n\tBaseThreadInitThunk [0x761C6BA9+25]\n\tRtlGetFullPathName_UEx [0x770D8F9F+1215]\n\tRtlGetFullPathName_UEx [0x770D8F6D+1165]\n",
     "output_type": "error",
     "traceback": [
      "\u001b[1;31m---------------------------------------------------------------------------\u001b[0m",
      "\u001b[1;31mNoSuchElementException\u001b[0m                    Traceback (most recent call last)",
      "\u001b[1;32m~\\AppData\\Local\\Temp\\ipykernel_3836\\3637549007.py\u001b[0m in \u001b[0;36m<module>\u001b[1;34m\u001b[0m\n\u001b[0;32m      1\u001b[0m \u001b[0mviews_counts\u001b[0m \u001b[1;33m=\u001b[0m \u001b[1;33m[\u001b[0m\u001b[1;33m]\u001b[0m\u001b[1;33m\u001b[0m\u001b[1;33m\u001b[0m\u001b[0m\n\u001b[0;32m      2\u001b[0m \u001b[1;32mfor\u001b[0m \u001b[0mi\u001b[0m\u001b[1;33m,\u001b[0m \u001b[0mvideo_element\u001b[0m \u001b[1;32min\u001b[0m \u001b[0menumerate\u001b[0m\u001b[1;33m(\u001b[0m\u001b[0mvideo_elements\u001b[0m\u001b[1;33m[\u001b[0m\u001b[1;33m:\u001b[0m\u001b[1;36m5\u001b[0m\u001b[1;33m]\u001b[0m\u001b[1;33m)\u001b[0m\u001b[1;33m:\u001b[0m\u001b[1;33m\u001b[0m\u001b[1;33m\u001b[0m\u001b[0m\n\u001b[1;32m----> 3\u001b[1;33m     \u001b[0mviews_element\u001b[0m \u001b[1;33m=\u001b[0m \u001b[0mvideo_element\u001b[0m\u001b[1;33m.\u001b[0m\u001b[0mfind_element\u001b[0m\u001b[1;33m(\u001b[0m\u001b[0mBy\u001b[0m\u001b[1;33m.\u001b[0m\u001b[0mXPATH\u001b[0m\u001b[1;33m,\u001b[0m \u001b[1;34m\".//span[@class='style-scope ytd-video-meta-block'][1]\"\u001b[0m\u001b[1;33m)\u001b[0m\u001b[1;33m\u001b[0m\u001b[1;33m\u001b[0m\u001b[0m\n\u001b[0m\u001b[0;32m      4\u001b[0m     \u001b[0mviews_count\u001b[0m \u001b[1;33m=\u001b[0m \u001b[0mviews_element\u001b[0m\u001b[1;33m.\u001b[0m\u001b[0mget_attribute\u001b[0m\u001b[1;33m(\u001b[0m\u001b[1;34m\"innerHTML\"\u001b[0m\u001b[1;33m)\u001b[0m\u001b[1;33m\u001b[0m\u001b[1;33m\u001b[0m\u001b[0m\n\u001b[0;32m      5\u001b[0m     \u001b[0mviews_counts\u001b[0m\u001b[1;33m.\u001b[0m\u001b[0mappend\u001b[0m\u001b[1;33m(\u001b[0m\u001b[0mviews_count\u001b[0m\u001b[1;33m)\u001b[0m\u001b[1;33m\u001b[0m\u001b[1;33m\u001b[0m\u001b[0m\n",
      "\u001b[1;32m~\\anaconda3\\lib\\site-packages\\selenium\\webdriver\\remote\\webelement.py\u001b[0m in \u001b[0;36mfind_element\u001b[1;34m(self, by, value)\u001b[0m\n\u001b[0;32m    423\u001b[0m             \u001b[0mvalue\u001b[0m \u001b[1;33m=\u001b[0m \u001b[1;34mf'[name=\"{value}\"]'\u001b[0m\u001b[1;33m\u001b[0m\u001b[1;33m\u001b[0m\u001b[0m\n\u001b[0;32m    424\u001b[0m \u001b[1;33m\u001b[0m\u001b[0m\n\u001b[1;32m--> 425\u001b[1;33m         \u001b[1;32mreturn\u001b[0m \u001b[0mself\u001b[0m\u001b[1;33m.\u001b[0m\u001b[0m_execute\u001b[0m\u001b[1;33m(\u001b[0m\u001b[0mCommand\u001b[0m\u001b[1;33m.\u001b[0m\u001b[0mFIND_CHILD_ELEMENT\u001b[0m\u001b[1;33m,\u001b[0m \u001b[1;33m{\u001b[0m\u001b[1;34m\"using\"\u001b[0m\u001b[1;33m:\u001b[0m \u001b[0mby\u001b[0m\u001b[1;33m,\u001b[0m \u001b[1;34m\"value\"\u001b[0m\u001b[1;33m:\u001b[0m \u001b[0mvalue\u001b[0m\u001b[1;33m}\u001b[0m\u001b[1;33m)\u001b[0m\u001b[1;33m[\u001b[0m\u001b[1;34m\"value\"\u001b[0m\u001b[1;33m]\u001b[0m\u001b[1;33m\u001b[0m\u001b[1;33m\u001b[0m\u001b[0m\n\u001b[0m\u001b[0;32m    426\u001b[0m \u001b[1;33m\u001b[0m\u001b[0m\n\u001b[0;32m    427\u001b[0m     \u001b[1;32mdef\u001b[0m \u001b[0mfind_elements\u001b[0m\u001b[1;33m(\u001b[0m\u001b[0mself\u001b[0m\u001b[1;33m,\u001b[0m \u001b[0mby\u001b[0m\u001b[1;33m=\u001b[0m\u001b[0mBy\u001b[0m\u001b[1;33m.\u001b[0m\u001b[0mID\u001b[0m\u001b[1;33m,\u001b[0m \u001b[0mvalue\u001b[0m\u001b[1;33m=\u001b[0m\u001b[1;32mNone\u001b[0m\u001b[1;33m)\u001b[0m \u001b[1;33m->\u001b[0m \u001b[0mlist\u001b[0m\u001b[1;33m[\u001b[0m\u001b[0mWebElement\u001b[0m\u001b[1;33m]\u001b[0m\u001b[1;33m:\u001b[0m\u001b[1;33m\u001b[0m\u001b[1;33m\u001b[0m\u001b[0m\n",
      "\u001b[1;32m~\\anaconda3\\lib\\site-packages\\selenium\\webdriver\\remote\\webelement.py\u001b[0m in \u001b[0;36m_execute\u001b[1;34m(self, command, params)\u001b[0m\n\u001b[0;32m    401\u001b[0m             \u001b[0mparams\u001b[0m \u001b[1;33m=\u001b[0m \u001b[1;33m{\u001b[0m\u001b[1;33m}\u001b[0m\u001b[1;33m\u001b[0m\u001b[1;33m\u001b[0m\u001b[0m\n\u001b[0;32m    402\u001b[0m         \u001b[0mparams\u001b[0m\u001b[1;33m[\u001b[0m\u001b[1;34m\"id\"\u001b[0m\u001b[1;33m]\u001b[0m \u001b[1;33m=\u001b[0m \u001b[0mself\u001b[0m\u001b[1;33m.\u001b[0m\u001b[0m_id\u001b[0m\u001b[1;33m\u001b[0m\u001b[1;33m\u001b[0m\u001b[0m\n\u001b[1;32m--> 403\u001b[1;33m         \u001b[1;32mreturn\u001b[0m \u001b[0mself\u001b[0m\u001b[1;33m.\u001b[0m\u001b[0m_parent\u001b[0m\u001b[1;33m.\u001b[0m\u001b[0mexecute\u001b[0m\u001b[1;33m(\u001b[0m\u001b[0mcommand\u001b[0m\u001b[1;33m,\u001b[0m \u001b[0mparams\u001b[0m\u001b[1;33m)\u001b[0m\u001b[1;33m\u001b[0m\u001b[1;33m\u001b[0m\u001b[0m\n\u001b[0m\u001b[0;32m    404\u001b[0m \u001b[1;33m\u001b[0m\u001b[0m\n\u001b[0;32m    405\u001b[0m     \u001b[1;32mdef\u001b[0m \u001b[0mfind_element\u001b[0m\u001b[1;33m(\u001b[0m\u001b[0mself\u001b[0m\u001b[1;33m,\u001b[0m \u001b[0mby\u001b[0m\u001b[1;33m=\u001b[0m\u001b[0mBy\u001b[0m\u001b[1;33m.\u001b[0m\u001b[0mID\u001b[0m\u001b[1;33m,\u001b[0m \u001b[0mvalue\u001b[0m\u001b[1;33m=\u001b[0m\u001b[1;32mNone\u001b[0m\u001b[1;33m)\u001b[0m \u001b[1;33m->\u001b[0m \u001b[0mWebElement\u001b[0m\u001b[1;33m:\u001b[0m\u001b[1;33m\u001b[0m\u001b[1;33m\u001b[0m\u001b[0m\n",
      "\u001b[1;32m~\\anaconda3\\lib\\site-packages\\selenium\\webdriver\\remote\\webdriver.py\u001b[0m in \u001b[0;36mexecute\u001b[1;34m(self, driver_command, params)\u001b[0m\n\u001b[0;32m    438\u001b[0m         \u001b[0mresponse\u001b[0m \u001b[1;33m=\u001b[0m \u001b[0mself\u001b[0m\u001b[1;33m.\u001b[0m\u001b[0mcommand_executor\u001b[0m\u001b[1;33m.\u001b[0m\u001b[0mexecute\u001b[0m\u001b[1;33m(\u001b[0m\u001b[0mdriver_command\u001b[0m\u001b[1;33m,\u001b[0m \u001b[0mparams\u001b[0m\u001b[1;33m)\u001b[0m\u001b[1;33m\u001b[0m\u001b[1;33m\u001b[0m\u001b[0m\n\u001b[0;32m    439\u001b[0m         \u001b[1;32mif\u001b[0m \u001b[0mresponse\u001b[0m\u001b[1;33m:\u001b[0m\u001b[1;33m\u001b[0m\u001b[1;33m\u001b[0m\u001b[0m\n\u001b[1;32m--> 440\u001b[1;33m             \u001b[0mself\u001b[0m\u001b[1;33m.\u001b[0m\u001b[0merror_handler\u001b[0m\u001b[1;33m.\u001b[0m\u001b[0mcheck_response\u001b[0m\u001b[1;33m(\u001b[0m\u001b[0mresponse\u001b[0m\u001b[1;33m)\u001b[0m\u001b[1;33m\u001b[0m\u001b[1;33m\u001b[0m\u001b[0m\n\u001b[0m\u001b[0;32m    441\u001b[0m             \u001b[0mresponse\u001b[0m\u001b[1;33m[\u001b[0m\u001b[1;34m\"value\"\u001b[0m\u001b[1;33m]\u001b[0m \u001b[1;33m=\u001b[0m \u001b[0mself\u001b[0m\u001b[1;33m.\u001b[0m\u001b[0m_unwrap_value\u001b[0m\u001b[1;33m(\u001b[0m\u001b[0mresponse\u001b[0m\u001b[1;33m.\u001b[0m\u001b[0mget\u001b[0m\u001b[1;33m(\u001b[0m\u001b[1;34m\"value\"\u001b[0m\u001b[1;33m,\u001b[0m \u001b[1;32mNone\u001b[0m\u001b[1;33m)\u001b[0m\u001b[1;33m)\u001b[0m\u001b[1;33m\u001b[0m\u001b[1;33m\u001b[0m\u001b[0m\n\u001b[0;32m    442\u001b[0m             \u001b[1;32mreturn\u001b[0m \u001b[0mresponse\u001b[0m\u001b[1;33m\u001b[0m\u001b[1;33m\u001b[0m\u001b[0m\n",
      "\u001b[1;32m~\\anaconda3\\lib\\site-packages\\selenium\\webdriver\\remote\\errorhandler.py\u001b[0m in \u001b[0;36mcheck_response\u001b[1;34m(self, response)\u001b[0m\n\u001b[0;32m    243\u001b[0m                 \u001b[0malert_text\u001b[0m \u001b[1;33m=\u001b[0m \u001b[0mvalue\u001b[0m\u001b[1;33m[\u001b[0m\u001b[1;34m\"alert\"\u001b[0m\u001b[1;33m]\u001b[0m\u001b[1;33m.\u001b[0m\u001b[0mget\u001b[0m\u001b[1;33m(\u001b[0m\u001b[1;34m\"text\"\u001b[0m\u001b[1;33m)\u001b[0m\u001b[1;33m\u001b[0m\u001b[1;33m\u001b[0m\u001b[0m\n\u001b[0;32m    244\u001b[0m             \u001b[1;32mraise\u001b[0m \u001b[0mexception_class\u001b[0m\u001b[1;33m(\u001b[0m\u001b[0mmessage\u001b[0m\u001b[1;33m,\u001b[0m \u001b[0mscreen\u001b[0m\u001b[1;33m,\u001b[0m \u001b[0mstacktrace\u001b[0m\u001b[1;33m,\u001b[0m \u001b[0malert_text\u001b[0m\u001b[1;33m)\u001b[0m  \u001b[1;31m# type: ignore[call-arg]  # mypy is not smart enough here\u001b[0m\u001b[1;33m\u001b[0m\u001b[1;33m\u001b[0m\u001b[0m\n\u001b[1;32m--> 245\u001b[1;33m         \u001b[1;32mraise\u001b[0m \u001b[0mexception_class\u001b[0m\u001b[1;33m(\u001b[0m\u001b[0mmessage\u001b[0m\u001b[1;33m,\u001b[0m \u001b[0mscreen\u001b[0m\u001b[1;33m,\u001b[0m \u001b[0mstacktrace\u001b[0m\u001b[1;33m)\u001b[0m\u001b[1;33m\u001b[0m\u001b[1;33m\u001b[0m\u001b[0m\n\u001b[0m",
      "\u001b[1;31mNoSuchElementException\u001b[0m: Message: no such element: Unable to locate element: {\"method\":\"xpath\",\"selector\":\".//span[@class='style-scope ytd-video-meta-block'][1]\"}\n  (Session info: headless chrome=114.0.5735.134)\nStacktrace:\nBacktrace:\n\tGetHandleVerifier [0x0101A813+48355]\n\t(No symbol) [0x00FAC4B1]\n\t(No symbol) [0x00EB5358]\n\t(No symbol) [0x00EE09A5]\n\t(No symbol) [0x00EE0B3B]\n\t(No symbol) [0x00ED9AE1]\n\t(No symbol) [0x00EFA784]\n\t(No symbol) [0x00ED9A36]\n\t(No symbol) [0x00EFAA94]\n\t(No symbol) [0x00F0C922]\n\t(No symbol) [0x00EFA536]\n\t(No symbol) [0x00ED82DC]\n\t(No symbol) [0x00ED93DD]\n\tGetHandleVerifier [0x0127AABD+2539405]\n\tGetHandleVerifier [0x012BA78F+2800735]\n\tGetHandleVerifier [0x012B456C+2775612]\n\tGetHandleVerifier [0x010A51E0+616112]\n\t(No symbol) [0x00FB5F8C]\n\t(No symbol) [0x00FB2328]\n\t(No symbol) [0x00FB240B]\n\t(No symbol) [0x00FA4FF7]\n\tBaseThreadInitThunk [0x761C6BA9+25]\n\tRtlGetFullPathName_UEx [0x770D8F9F+1215]\n\tRtlGetFullPathName_UEx [0x770D8F6D+1165]\n"
     ]
    }
   ],
   "source": [
    "views_counts = []\n",
    "for i, video_element in enumerate(video_elements[:5]):\n",
    "    views_element = video_element.find_element(By.XPATH, \".//span[@class='style-scope ytd-video-meta-block'][1]\")\n",
    "    views_count = views_element.get_attribute(\"innerHTML\")\n",
    "    views_counts.append(views_count)"
   ]
  },
  {
   "cell_type": "code",
   "execution_count": 113,
   "id": "fbcdfe3d",
   "metadata": {},
   "outputs": [],
   "source": [
    "for views_count in views_counts:\n",
    "    print(views_count)"
   ]
  },
  {
   "cell_type": "code",
   "execution_count": 115,
   "id": "9ea44392",
   "metadata": {},
   "outputs": [],
   "source": [
    "driver.quit()"
   ]
  },
  {
   "cell_type": "code",
   "execution_count": null,
   "id": "92a8af56",
   "metadata": {},
   "outputs": [],
   "source": []
  },
  {
   "cell_type": "markdown",
   "id": "e076988e",
   "metadata": {},
   "source": [
    "# Q5"
   ]
  },
  {
   "cell_type": "markdown",
   "id": "aa55e0a5",
   "metadata": {},
   "source": [
    "### Q5. Write a python program to extract the time of posting of video for the first five videos."
   ]
  },
  {
   "cell_type": "code",
   "execution_count": 116,
   "id": "5a27b8fc",
   "metadata": {},
   "outputs": [],
   "source": [
    "from selenium import webdriver\n",
    "from selenium.webdriver.chrome.service import Service\n",
    "from selenium.webdriver.common.by import By\n",
    "from selenium.webdriver.chrome.options import Options"
   ]
  },
  {
   "cell_type": "code",
   "execution_count": 117,
   "id": "d3e98a2e",
   "metadata": {},
   "outputs": [],
   "source": [
    "chrome_options = Options()\n",
    "chrome_options.add_argument(\"--headless\")  # Run Chrome in headless mode\n",
    "service = Service('path/to/chromedriver')  # Replace with the path to your chromedriver executable\n",
    "driver = webdriver.Chrome(service=service, options=chrome_options)"
   ]
  },
  {
   "cell_type": "code",
   "execution_count": 118,
   "id": "983af4ef",
   "metadata": {},
   "outputs": [],
   "source": [
    "search_keyword = \"https://www.youtube.com/@PW-Foundation/videos\"\n",
    "driver.get(f\"https://www.youtube.com/results?search_query={search_keyword}\")"
   ]
  },
  {
   "cell_type": "code",
   "execution_count": 119,
   "id": "54884201",
   "metadata": {},
   "outputs": [],
   "source": [
    "time.sleep(5)  # Replace with appropriate waiting mechanism if needed"
   ]
  },
  {
   "cell_type": "code",
   "execution_count": 120,
   "id": "472fb1fc",
   "metadata": {},
   "outputs": [],
   "source": [
    "video_elements = driver.find_elements(By.CSS_SELECTOR, \"ytd-video-renderer\")"
   ]
  },
  {
   "cell_type": "code",
   "execution_count": 121,
   "id": "177954d5",
   "metadata": {},
   "outputs": [],
   "source": [
    "posting_times = []\n",
    "for i, video_element in enumerate(video_elements[:5]):\n",
    "    time_element = video_element.find_element(By.CSS_SELECTOR, \"ytd-video-meta-block span.style-scope.ytd-video-meta-block\")\n",
    "    posting_time = time_element.get_attribute(\"innerHTML\")\n",
    "    posting_times.append(posting_time)"
   ]
  },
  {
   "cell_type": "code",
   "execution_count": 122,
   "id": "7b18dc5d",
   "metadata": {},
   "outputs": [
    {
     "name": "stdout",
     "output_type": "stream",
     "text": [
      "32K views\n",
      "53K views\n",
      "2.8M views\n",
      "373K views\n",
      "191K views\n"
     ]
    }
   ],
   "source": [
    "for posting_time in posting_times:\n",
    "    print(posting_time)\n"
   ]
  },
  {
   "cell_type": "code",
   "execution_count": null,
   "id": "31c30535",
   "metadata": {},
   "outputs": [],
   "source": []
  },
  {
   "cell_type": "code",
   "execution_count": null,
   "id": "75ceffb6",
   "metadata": {},
   "outputs": [],
   "source": []
  },
  {
   "cell_type": "code",
   "execution_count": null,
   "id": "35a28d49",
   "metadata": {},
   "outputs": [],
   "source": []
  },
  {
   "cell_type": "code",
   "execution_count": null,
   "id": "d05371a4",
   "metadata": {},
   "outputs": [],
   "source": []
  },
  {
   "cell_type": "code",
   "execution_count": null,
   "id": "e389cb88",
   "metadata": {},
   "outputs": [],
   "source": []
  },
  {
   "cell_type": "code",
   "execution_count": null,
   "id": "3c3f9411",
   "metadata": {},
   "outputs": [],
   "source": []
  },
  {
   "cell_type": "code",
   "execution_count": null,
   "id": "2403db94",
   "metadata": {},
   "outputs": [],
   "source": []
  },
  {
   "cell_type": "code",
   "execution_count": null,
   "id": "0d47ae87",
   "metadata": {},
   "outputs": [],
   "source": []
  },
  {
   "cell_type": "code",
   "execution_count": null,
   "id": "6dd29188",
   "metadata": {},
   "outputs": [],
   "source": []
  },
  {
   "cell_type": "code",
   "execution_count": null,
   "id": "5470a2d9",
   "metadata": {},
   "outputs": [],
   "source": []
  },
  {
   "cell_type": "code",
   "execution_count": null,
   "id": "6b793a42",
   "metadata": {},
   "outputs": [],
   "source": []
  },
  {
   "cell_type": "code",
   "execution_count": null,
   "id": "b2c5bb3a",
   "metadata": {},
   "outputs": [],
   "source": []
  },
  {
   "cell_type": "code",
   "execution_count": null,
   "id": "e1595a1b",
   "metadata": {},
   "outputs": [],
   "source": []
  },
  {
   "cell_type": "code",
   "execution_count": null,
   "id": "9ef720cc",
   "metadata": {},
   "outputs": [],
   "source": []
  },
  {
   "cell_type": "code",
   "execution_count": null,
   "id": "7b246eb1",
   "metadata": {},
   "outputs": [],
   "source": []
  },
  {
   "cell_type": "code",
   "execution_count": null,
   "id": "5a742275",
   "metadata": {},
   "outputs": [],
   "source": []
  },
  {
   "cell_type": "code",
   "execution_count": null,
   "id": "1727a18c",
   "metadata": {},
   "outputs": [],
   "source": []
  },
  {
   "cell_type": "code",
   "execution_count": null,
   "id": "8a1a9574",
   "metadata": {},
   "outputs": [],
   "source": []
  },
  {
   "cell_type": "code",
   "execution_count": null,
   "id": "4e492a9d",
   "metadata": {},
   "outputs": [],
   "source": []
  }
 ],
 "metadata": {
  "kernelspec": {
   "display_name": "Python 3 (ipykernel)",
   "language": "python",
   "name": "python3"
  },
  "language_info": {
   "codemirror_mode": {
    "name": "ipython",
    "version": 3
   },
   "file_extension": ".py",
   "mimetype": "text/x-python",
   "name": "python",
   "nbconvert_exporter": "python",
   "pygments_lexer": "ipython3",
   "version": "3.9.13"
  }
 },
 "nbformat": 4,
 "nbformat_minor": 5
}
